{
 "cells": [
  {
   "cell_type": "markdown",
   "metadata": {},
   "source": [
    "---\n",
    "# Summary of Findings\n",
    "\n",
    "\n",
    "## Introduction\n",
    "---\n",
    "The prolem that I would like to look into is the matter of which players will retire before the next season.  This is clearly a classification problem, as I would like my model to classify players into two categories: those who will retire after the given season and those who will not.  In order to measure the model's performance, I will be evaluating its classifications based on f1 score.  I chose to look at this problem from the perspective of a sports jersey merchant.  One would want to be able to prepare to make jerseys for players who will continue to play in the league.  In this sense, incorrectly identifying a player as retiring means you would miss out on potential profits from jersey sales.  Similarly, making a jersey for someone who actually retires (in opposition to your prediction), is a waste of money.  Therefore maximizing one's f1 score is more important than improving overall accuracy. \n",
    "\n",
    "\n",
    "### Results: Baseline Model\n",
    "---\n",
    "For my baseline model, I trained my model on the following variables for the following reasons:\n",
    "\n",
    "    Pos : position (nominal) ; some positions may have different career lengths in the NBA\n",
    "    \n",
    "    Age : age (quantitative) ; as one grows older, they have a greater chance to retire\n",
    "    \n",
    "    Tm : team (nominal) ; some teams may be less willing to extend player contracts\n",
    "    \n",
    "    G : games played (quantitative) ; if someone plays more games, they are more valuable to a team\n",
    "    \n",
    "    GS : games started (quantitative) ; the more games started, the more valuable a player is to a team\n",
    "    \n",
    "    MP : minutes played (quantitative) ; players with more minutes played are less likely to retire\n",
    "    \n",
    "    PTS : points scored (quantitative) ; if a player is scoring more, they are less likely to stop playing\n",
    "    \n",
    "    AST : assists (quantitative) ; if a player has more assists they are more important to a team\n",
    "    \n",
    "    STL : steals (quantitative) ; the more steals a player has, the more defensively valuable they are as a player\n",
    "    \n",
    "    TOV : turnovers (quantitative) ; the more one turns the ball over, the more detrimental they are to the team\n",
    "    \n",
    "    ORB : offensive rebounds (quantitative) ; the more rebounds one has, the more valuable they are to the team\n",
    "    \n",
    "    DRB : defennsive rebounds (quantitative) ; the more rebounds one has, the more valuable they are to the team\n",
    "\n",
    "\n",
    "My base model employed a linear classifier, and performed below what I would have hoped.  Although I had an accuracy of about 88%, my model had f1 scores far lower than what I would have hoped.  On its training set, the model achieved a score of 0.358 and on a test set the model achieved a score of 0.531.  This is poor performance because the scores clue me into the fact that I have poor precision and recall.  Therefore, if I were to be making jerseys I would have a good ammount of jerseys made for players retiring and no jerseys made for some players continuing on.\n",
    "\n",
    "### Results: Final Model\n",
    "---\n",
    "Part of the reason why I believe my first model did not perform well is because I supplied it with too many variales.  Part of improving my model and adding statistics was therefore centered around simplifying parts of my model.\n",
    "\n",
    "Added variables:\n",
    "\n",
    "    MPG : minutes per game ; playtime per game is a better predictor of how used a player is than simply games played or minutes played separate from eachother\n",
    "    \n",
    "    OFF : offensive stats ; this encompases points scored and assists. This metric serves to simplify the information\n",
    "    \n",
    "    DEF : defensive stats ; this encompases stats for regaining posession of the ball\n",
    "    \n",
    "    \n",
    "Variables included in final model: 'MpG', 'DEF', 'OFF', 'GS', 'G', 'Age', 'Tm', 'Pos'\n",
    "\n",
    "\n",
    "After changing which variables my model would be working with, I turned my attention towards which type of classifier would work best.  To do so, I fit the model with a Linear, DecisionTree and KNeighbors classifiers.  Within the decision tree and k-neighbors classifiers I also varied the depth of the tree and the number of neighbors respectively.  After testing these options, I selected to use a DecisionTreeClassifier with a depth of 1, as it gave me the highest f1 score.\n",
    "\n",
    "\n",
    "With these changes, I was able to improve my f1 scores to be 0.599 and 0.616 on my training and test sets respectively.\n",
    "\n",
    "### Results: Fairness Evaluation\n",
    "---\n",
    "I was interested to see if my model became biased towards believing players from a certain team were more likely to retire than others.  This would be a demographic parity.  To test this, I did a permutation test with a test statistic of the ks score between the distribution of teams for players classified as retiring and not retiring.  If our model was biased towards a specific team, the observed ks score would be higher than those from the randomized assignments of retiring vs not retiring.  This was not seen to be the case, and with a p score of 0.962 I can confidently say that my model is not biased. \n",
    "\n",
    "---"
   ]
  },
  {
   "cell_type": "markdown",
   "metadata": {},
   "source": [
    "# Your Code Starts Here"
   ]
  },
  {
   "cell_type": "code",
   "execution_count": 681,
   "metadata": {},
   "outputs": [],
   "source": [
    "%matplotlib inline\n",
    "import os\n",
    "\n",
    "import pandas as pd\n",
    "import numpy as np\n",
    "\n",
    "import matplotlib.pyplot as plot\n",
    "import seaborn as sns\n",
    "from scipy.stats import ks_2samp\n",
    "\n",
    "from sklearn.pipeline import Pipeline\n",
    "import sklearn.preprocessing as pp\n",
    "from sklearn.linear_model import LinearRegression, SGDClassifier\n",
    "from sklearn.tree import DecisionTreeClassifier\n",
    "from sklearn.neighbors import KNeighborsClassifier\n",
    "from sklearn.compose import ColumnTransformer\n",
    "from sklearn import metrics\n"
   ]
  },
  {
   "cell_type": "code",
   "execution_count": 626,
   "metadata": {},
   "outputs": [],
   "source": [
    "#loading in the tables\n",
    "df = pd.DataFrame(pd.read_html(\"https://www.basketball-reference.com/leagues/NBA_2012_totals.html\")\\\n",
    "                  [0]).drop(['Rk'], axis=1)\n",
    "df.columns = [df.columns[0]] + [str(x) + '_2012_rs' for x in df.columns[1:]]\n",
    "\n",
    "po = pd.DataFrame(pd.read_html(\"https://www.basketball-reference.com/playoffs/NBA_2012_totals.html\")\\\n",
    "                  [0]).drop(['Rk'], axis=1)\n",
    "po.columns = [po.columns[0]] + [str(x) + '_2012_po' for x in po.columns[1:]]\n",
    "\n",
    "\n",
    "df = pd.concat([df,po], sort=True)\n",
    "for i in range(2013, 2019):\n",
    "    rs = pd.DataFrame(pd.read_html(\"https://www.basketball-reference.com/leagues/NBA_\" + str(i) +\\\n",
    "                                   \"_totals.html\")[0]).drop(['Rk'], axis = 1)\n",
    "    rs.columns = [rs.columns[0]] + [str(x) + '_' + str(i) + '_rs' for x in rs.columns[1:]]\n",
    "    df = pd.concat([df,rs], sort=True)\n",
    "    \n",
    "    po = pd.DataFrame(pd.read_html(\"https://www.basketball-reference.com/playoffs/NBA_\" + str(i) + \\\n",
    "                                   \"_totals.html\")[0]).drop(['Rk'], axis = 1)\n",
    "    po.columns = [po.columns[0]] + [str(x) + '_' + str(i) + '_po' for x in po.columns[1:]]\n",
    "    df = pd.concat([df,po], sort=True)\n",
    "\n",
    "#dropping unnecessary rows and converting columns to correct types\n",
    "df = df[df['Player'] != 'Player']\n",
    "df = df.set_index('Player')\n",
    "for col in df.columns:\n",
    "    string = ('Pos' in col) | ('Tm' in col)\n",
    "    if (not string):\n",
    "        df[col] = df[col].astype(float)     "
   ]
  },
  {
   "cell_type": "code",
   "execution_count": 627,
   "metadata": {},
   "outputs": [],
   "source": [
    "#returns a dataframe for players just playing in the given year during the specific season\n",
    "def spec_time(df, year, season='both'):\n",
    "    df = df.filter(like=str(year))\n",
    "    if (season == 'both'):\n",
    "        df = df[~df['Tm_' + str(year) + '_rs'].isnull()]\n",
    "        return df\n",
    "    \n",
    "    df = df.filter(like = str(season))\n",
    "    \n",
    "    len_suff = len('_20XX_xx')\n",
    "    df.columns = [x[:-len_suff] for x in df.columns]\n",
    "    \n",
    "    #only looking at players who were on a team (i.e. playing) that year\n",
    "    df = df[~df['Tm'].isnull()]\n",
    "    return df"
   ]
  },
  {
   "cell_type": "code",
   "execution_count": 628,
   "metadata": {},
   "outputs": [],
   "source": [
    "#returns a list of players who retired after the previous year's season\n",
    "def retired_from_last_season(year):\n",
    "    last = year - 1\n",
    "    last_rs = spec_time(df, last, 'rs')\n",
    "    this_rs = spec_time(df, year, 'rs')\n",
    "    retired = []\n",
    "    \n",
    "    for per in list(last_rs.index):\n",
    "        if (per not in list(this_rs.index)):\n",
    "            if (per not in retired):\n",
    "                retired.append(per)\n",
    "            \n",
    "    return retired\n",
    "\n",
    "#adds a column to a years dataframe of the players who retire after that year\n",
    "def retires_after_this_year(df, year):\n",
    "    ret = retired_from_last_season(year + 1)\n",
    "    retired_y_n = [(x in ret) for x in df.index]\n",
    "    \n",
    "    df['retires'] = retired_y_n\n",
    "    \n",
    "    return df\n",
    "\n",
    "#with players who moved teams mid-season, only consider their combined stat\n",
    "#also replace \"TOT\" team label with 'MOV' to signify transfer\n",
    "def keep_only_total(frame):\n",
    "    df = frame.copy()\n",
    "    df['Player'] = df.index\n",
    "    df = df.drop_duplicates(subset='Player')\n",
    "    df = df.set_index('Player')\n",
    "    \n",
    "    df['Tm'] = df['Tm'].replace('TOT', 'MOV')\n",
    "    return df"
   ]
  },
  {
   "cell_type": "code",
   "execution_count": 629,
   "metadata": {},
   "outputs": [],
   "source": [
    "def get_cleaned_data(year):\n",
    "    #I will train my model on the players which retired after the 2016 season\n",
    "    ret = retired_from_last_season(year + 1)\n",
    "    season = spec_time(df, year, 'rs')\n",
    "\n",
    "    #finding who retires and removing partial stats for season\n",
    "    season = retires_after_this_year(season, year)\n",
    "    season = keep_only_total(season)\n",
    "\n",
    "    #only keeping columns which I think are necessary\n",
    "    keep = ['Pos', 'Age', 'Tm', 'G', 'GS', 'MP', 'PTS', 'AST', 'STL', 'TOV', 'ORB', 'DRB', 'retires']\n",
    "    cols_before = season.columns\n",
    "    for col in cols_before:\n",
    "        if (col not in keep):\n",
    "            season = season.drop(col, axis=1)\n",
    "\n",
    "    return season\n",
    "\n",
    "def calc_f1(prec, rec):\n",
    "    return (2 * prec * rec) / (prec + rec)"
   ]
  },
  {
   "cell_type": "markdown",
   "metadata": {},
   "source": [
    "### Results: Baseline Model\n",
    "---"
   ]
  },
  {
   "cell_type": "code",
   "execution_count": 731,
   "metadata": {},
   "outputs": [],
   "source": [
    "season_16 = get_cleaned_data(2016)\n",
    "#One-hot encoding player position and team\n",
    "oh_cols = ['Tm', 'Pos']\n",
    "#getting all possible team names and positions to propperly one-hot encode\n",
    "all_teams = ['MOV']\n",
    "all_pos = []\n",
    "for i in range(2012, 2018):\n",
    "    yr = spec_time(df, i, 'rs')\n",
    "    \n",
    "    for tm in yr['Tm'].unique():\n",
    "        if (tm not in all_teams):\n",
    "            all_teams.append(tm)\n",
    "            \n",
    "    for po in yr['Pos'].unique():\n",
    "        if (po not in all_pos):\n",
    "            all_pos.append(po)\n",
    "\n",
    "col_trans = ColumnTransformer(transformers=[('one-hot', pp.OneHotEncoder(categories=[all_teams, all_pos]), oh_cols)], \\\n",
    "                              remainder='passthrough')"
   ]
  },
  {
   "cell_type": "code",
   "execution_count": 732,
   "metadata": {},
   "outputs": [
    {
     "name": "stderr",
     "output_type": "stream",
     "text": [
      "/Users/nateroberts/anaconda3/lib/python3.7/site-packages/sklearn/linear_model/stochastic_gradient.py:166: FutureWarning: max_iter and tol parameters have been added in SGDClassifier in 0.19. If both are left unset, they default to max_iter=5 and tol=None. If tol is not None, max_iter defaults to max_iter=1000. From 0.21, default max_iter will be 1000, and default tol will be 1e-3.\n",
      "  FutureWarning)\n"
     ]
    },
    {
     "data": {
      "text/plain": [
       "Pipeline(memory=None,\n",
       "     steps=[('preprocessing', ColumnTransformer(n_jobs=None, remainder='passthrough', sparse_threshold=0.3,\n",
       "         transformer_weights=None,\n",
       "         transformers=[('one-hot', OneHotEncoder(categorical_features=None,\n",
       "       categories=[['MOV', 'HOU', 'DEN', 'UTA', 'TOR', 'OKC', 'POR', 'PHI', 'BOS', 'ME...m_state=None, shuffle=True, tol=None,\n",
       "       validation_fraction=0.1, verbose=0, warm_start=False))])"
      ]
     },
     "execution_count": 732,
     "metadata": {},
     "output_type": "execute_result"
    }
   ],
   "source": [
    "pl = Pipeline(steps=[('preprocessing', col_trans), ('classify', SGDClassifier())])\n",
    "X = season_16.drop('retires', axis=1)\n",
    "y = season_16.retires\n",
    "\n",
    "pl.fit(X,y)"
   ]
  },
  {
   "cell_type": "code",
   "execution_count": 733,
   "metadata": {},
   "outputs": [
    {
     "data": {
      "text/plain": [
       "0.3577235772357723"
      ]
     },
     "execution_count": 733,
     "metadata": {},
     "output_type": "execute_result"
    }
   ],
   "source": [
    "#f1 for training set\n",
    "preds = pl.predict(X)\n",
    "rec = metrics.recall_score(y, preds)\n",
    "prec = metrics.precision_score(y, preds)\n",
    "calc_f1(prec, rec)"
   ]
  },
  {
   "cell_type": "code",
   "execution_count": 734,
   "metadata": {},
   "outputs": [
    {
     "data": {
      "text/plain": [
       "0.53125"
      ]
     },
     "execution_count": 734,
     "metadata": {},
     "output_type": "execute_result"
    }
   ],
   "source": [
    "#f1 tested on 2014 test set\n",
    "\n",
    "season_14 = get_cleaned_data(2014)\n",
    "        \n",
    "X_test = season_14.drop('retires', axis=1)\n",
    "y_test = season_14.retires\n",
    "\n",
    "preds_test = pl.predict(X_test)\n",
    "\n",
    "rec_test = metrics.recall_score(y_test, preds_test)\n",
    "prec_test = metrics.precision_score(y_test, preds_test)\n",
    "calc_f1(prec_test, rec_test)"
   ]
  },
  {
   "cell_type": "code",
   "execution_count": 735,
   "metadata": {},
   "outputs": [
    {
     "data": {
      "text/plain": [
       "0.8752598752598753"
      ]
     },
     "execution_count": 735,
     "metadata": {},
     "output_type": "execute_result"
    }
   ],
   "source": [
    "metrics.accuracy_score(y_test, preds_test)"
   ]
  },
  {
   "cell_type": "markdown",
   "metadata": {},
   "source": [
    "### Results: Final Model\n",
    "---"
   ]
  },
  {
   "cell_type": "code",
   "execution_count": 667,
   "metadata": {},
   "outputs": [],
   "source": [
    "def add_feats(f):\n",
    "    #adding minutes per game stat\n",
    "    frame = f.copy()\n",
    "    \n",
    "    # divided by games plus one in case someone doesnt play a single game\n",
    "    frame['MpG'] = frame['MP'] / (frame['G'] + 1)\n",
    "    \n",
    "    #combining defensive stats together to simplify features\n",
    "    frame['DEF'] = frame['ORB'] + frame['DRB'] + frame['STL']\n",
    "\n",
    "    #combining offensive stats together to simplify features\n",
    "    frame['OFF'] = frame['PTS'] + frame['AST']\n",
    "    \n",
    "    frame = frame[['MpG', 'DEF', 'OFF', 'GS', 'G', 'Age', 'retires', 'Tm', 'Pos']]\n",
    "    return frame"
   ]
  },
  {
   "cell_type": "code",
   "execution_count": 675,
   "metadata": {},
   "outputs": [],
   "source": [
    "season_16 = get_cleaned_data(2016)\n",
    "season_16 = add_feats(season_16)"
   ]
  },
  {
   "cell_type": "code",
   "execution_count": 676,
   "metadata": {},
   "outputs": [
    {
     "name": "stderr",
     "output_type": "stream",
     "text": [
      "/Users/nateroberts/anaconda3/lib/python3.7/site-packages/sklearn/linear_model/stochastic_gradient.py:166: FutureWarning: max_iter and tol parameters have been added in SGDClassifier in 0.19. If both are left unset, they default to max_iter=5 and tol=None. If tol is not None, max_iter defaults to max_iter=1000. From 0.21, default max_iter will be 1000, and default tol will be 1e-3.\n",
      "  FutureWarning)\n"
     ]
    },
    {
     "data": {
      "text/html": [
       "<div>\n",
       "<style scoped>\n",
       "    .dataframe tbody tr th:only-of-type {\n",
       "        vertical-align: middle;\n",
       "    }\n",
       "\n",
       "    .dataframe tbody tr th {\n",
       "        vertical-align: top;\n",
       "    }\n",
       "\n",
       "    .dataframe thead th {\n",
       "        text-align: right;\n",
       "    }\n",
       "</style>\n",
       "<table border=\"1\" class=\"dataframe\">\n",
       "  <thead>\n",
       "    <tr style=\"text-align: right;\">\n",
       "      <th></th>\n",
       "      <th>train_f1</th>\n",
       "      <th>test_f1</th>\n",
       "    </tr>\n",
       "  </thead>\n",
       "  <tbody>\n",
       "    <tr>\n",
       "      <th>DT_1</th>\n",
       "      <td>0.598985</td>\n",
       "      <td>0.460674</td>\n",
       "    </tr>\n",
       "    <tr>\n",
       "      <th>KN_20</th>\n",
       "      <td>0.534161</td>\n",
       "      <td>0.450000</td>\n",
       "    </tr>\n",
       "    <tr>\n",
       "      <th>KN_24</th>\n",
       "      <td>0.506494</td>\n",
       "      <td>0.439024</td>\n",
       "    </tr>\n",
       "    <tr>\n",
       "      <th>KN_22</th>\n",
       "      <td>0.509554</td>\n",
       "      <td>0.431694</td>\n",
       "    </tr>\n",
       "    <tr>\n",
       "      <th>KN_18</th>\n",
       "      <td>0.537500</td>\n",
       "      <td>0.429708</td>\n",
       "    </tr>\n",
       "  </tbody>\n",
       "</table>\n",
       "</div>"
      ],
      "text/plain": [
       "       train_f1   test_f1\n",
       "DT_1   0.598985  0.460674\n",
       "KN_20  0.534161  0.450000\n",
       "KN_24  0.506494  0.439024\n",
       "KN_22  0.509554  0.431694\n",
       "KN_18  0.537500  0.429708"
      ]
     },
     "execution_count": 676,
     "metadata": {},
     "output_type": "execute_result"
    }
   ],
   "source": [
    "#testing different choices of classifiers\n",
    "X = season_16.drop('retires', axis=1)\n",
    "y = season_16.retires\n",
    "\n",
    "X_test = season_14.drop('retires', axis=1)\n",
    "y_test = season_14.retires\n",
    "\n",
    "train_f1 = []\n",
    "test_f1 = []\n",
    "index_labels = []\n",
    "\n",
    "#Linear classifier\n",
    "pl = Pipeline(steps=[('prep', col_trans), ('classify', SGDClassifier())])\n",
    "pl.fit(X,y)\n",
    "preds = pl.predict(X)\n",
    "rec = metrics.recall_score(y, preds)\n",
    "prec = metrics.precision_score(y, preds)\n",
    "train_f1.append(calc_f1(prec, rec))\n",
    "\n",
    "preds_test = pl.predict(X_test)\n",
    "rec_test = metrics.recall_score(y_test, preds_test)\n",
    "prec_test = metrics.precision_score(y_test, preds_test)\n",
    "test_f1.append(calc_f1(prec_test, rec_test))\n",
    "\n",
    "index_labels.append('Lin')\n",
    "\n",
    "#decision tree with diffferent depths up to 15\n",
    "for i in range(1, 16):\n",
    "    pl = Pipeline(steps=[('prep', col_trans), ('classify', DecisionTreeClassifier(max_depth=i))])\n",
    "    \n",
    "    pl.fit(X,y)\n",
    "    preds = pl.predict(X)\n",
    "    rec = metrics.recall_score(y, preds)\n",
    "    prec = metrics.precision_score(y, preds)\n",
    "    train_f1.append(calc_f1(prec, rec))\n",
    "    \n",
    "    preds_test = pl.predict(X_test)\n",
    "    rec_test = metrics.recall_score(y_test, preds_test)\n",
    "    prec_test = metrics.precision_score(y_test, preds_test)\n",
    "    test_f1.append(calc_f1(prec_test, rec_test))\n",
    "    \n",
    "    index_labels.append('DT_' + str(i))\n",
    "    \n",
    "#KNeighbors with different values of k up to 15\n",
    "for i in range(1, 25):\n",
    "    pl = Pipeline(steps=[('prep', col_trans), ('classify', KNeighborsClassifier(n_neighbors=i))])\n",
    "\n",
    "    pl.fit(X,y)\n",
    "    preds = pl.predict(X)\n",
    "    rec = metrics.recall_score(y, preds)\n",
    "    prec = metrics.precision_score(y, preds)\n",
    "    train_f1.append(calc_f1(prec, rec))\n",
    "    \n",
    "    preds_test = pl.predict(X_test)\n",
    "    rec_test = metrics.recall_score(y_test, preds_test)\n",
    "    prec_test = metrics.precision_score(y_test, preds_test)\n",
    "    test_f1.append(calc_f1(prec_test, rec_test))\n",
    "    \n",
    "    index_labels.append('KN_' + str(i))\n",
    "    \n",
    "results = pd.DataFrame()\n",
    "results['train_f1'] = train_f1\n",
    "results['test_f1'] = test_f1\n",
    "results.index = index_labels\n",
    "results.sort_values('test_f1', ascending = False).head()"
   ]
  },
  {
   "cell_type": "code",
   "execution_count": 670,
   "metadata": {
    "scrolled": true
   },
   "outputs": [
    {
     "data": {
      "text/plain": [
       "0.5989847715736041"
      ]
     },
     "execution_count": 670,
     "metadata": {},
     "output_type": "execute_result"
    }
   ],
   "source": [
    "X = season_16.drop('retires', axis=1)\n",
    "y = season_16.retires\n",
    "pl = Pipeline(steps=[('prep', col_trans), ('classify', DecisionTreeClassifier(max_depth=1))])\n",
    "pl.fit(X,y)\n",
    "\n",
    "X_test = add_feats(season_14).drop('retires', axis=1)\n",
    "y_test = season_14.retires\n",
    "\n",
    "#the accuracy of my model on its training set\n",
    "preds = pl.predict(X)\n",
    "rec = metrics.recall_score(y, preds)\n",
    "prec = metrics.precision_score(y, preds)\n",
    "calc_f1(prec, rec)"
   ]
  },
  {
   "cell_type": "code",
   "execution_count": 671,
   "metadata": {},
   "outputs": [
    {
     "data": {
      "text/plain": [
       "0.6161137440758294"
      ]
     },
     "execution_count": 671,
     "metadata": {},
     "output_type": "execute_result"
    }
   ],
   "source": [
    "preds_test = pl.predict(X_test)\n",
    "rec = metrics.recall_score(y_test, preds_test)\n",
    "prec = metrics.precision_score(y_test, preds_test)\n",
    "calc_f1(prec, rec)"
   ]
  },
  {
   "cell_type": "code",
   "execution_count": null,
   "metadata": {},
   "outputs": [],
   "source": []
  },
  {
   "cell_type": "markdown",
   "metadata": {},
   "source": [
    "### Results: Fairness Evaluation\n",
    "---"
   ]
  },
  {
   "cell_type": "markdown",
   "metadata": {},
   "source": [
    "Is my model biased towards believing players from a certain team are more likely to stop playing?"
   ]
  },
  {
   "cell_type": "code",
   "execution_count": 722,
   "metadata": {},
   "outputs": [
    {
     "data": {
      "text/plain": [
       "0.05521844660194175"
      ]
     },
     "execution_count": 722,
     "metadata": {},
     "output_type": "execute_result"
    }
   ],
   "source": [
    "preds = pl.predict(X).astype(int)\n",
    "season_16['predicted'] = preds\n",
    "grps = season_16.groupby('predicted')['Tm']\n",
    "ind = season_16.index\n",
    "obs = ks_2samp(grps.get_group(1), grps.get_group(0)).statistic\n",
    "obs"
   ]
  },
  {
   "cell_type": "code",
   "execution_count": 730,
   "metadata": {},
   "outputs": [
    {
     "data": {
      "image/png": "[encoded data removed]",
      "text/plain": [
       "<Figure size 432x288 with 1 Axes>"
      ]
     },
     "metadata": {
      "needs_background": "light"
     },
     "output_type": "display_data"
    }
   ],
   "source": [
    "n_repetitions = 500\n",
    "\n",
    "ks_list = []\n",
    "for _ in range(n_repetitions):\n",
    "    \n",
    "    # shuffle the gender column\n",
    "    shuffled_col = (\n",
    "        season_16['predicted']\n",
    "        .sample(replace=False, frac=1)\n",
    "        .reset_index(drop=True)\n",
    "    )\n",
    "    \n",
    "    # put them in a table\n",
    "    shuffled_col = pd.Series(shuffled_col)\n",
    "    shuffled_col.index = ind\n",
    "    season_16['predicted'] = shuffled_col\n",
    "    shuffled = (\n",
    "        season_16\n",
    "        .assign(**{\n",
    "            'predicted': shuffled_col,\n",
    "        })\n",
    "    )\n",
    "    \n",
    "    # compute the KS\n",
    "    grps = shuffled.groupby('predicted')['Tm']\n",
    "    ks = ks_2samp(grps.get_group(1), grps.get_group(0)).statistic\n",
    "    \n",
    "    ks_list.append(ks)\n",
    "    \n",
    "\n",
    "pval = np.mean(ks_list > obs)\n",
    "\n",
    "pd.Series(ks_list).plot(kind='hist', density=True, alpha=0.8, title='p-value: %f' % pval)\n",
    "\n",
    "plot.scatter(obs, 0, color='red', s=40);"
   ]
  }
 ],
 "metadata": {
  "kernelspec": {
   "display_name": "Python 3",
   "language": "python",
   "name": "python3"
  },
  "language_info": {
   "codemirror_mode": {
    "name": "ipython",
    "version": 3
   },
   "file_extension": ".py",
   "mimetype": "text/x-python",
   "name": "python",
   "nbconvert_exporter": "python",
   "pygments_lexer": "ipython3",
   "version": "3.7.1"
  }
 },
 "nbformat": 4,
 "nbformat_minor": 2
}
